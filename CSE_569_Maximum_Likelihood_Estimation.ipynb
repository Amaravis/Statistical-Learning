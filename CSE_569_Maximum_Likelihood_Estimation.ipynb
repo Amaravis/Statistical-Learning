{
  "nbformat": 4,
  "nbformat_minor": 0,
  "metadata": {
    "colab": {
      "provenance": []
    },
    "kernelspec": {
      "name": "python3",
      "display_name": "Python 3"
    },
    "language_info": {
      "name": "python"
    }
  },
  "cells": [
    {
      "cell_type": "code",
      "execution_count": null,
      "metadata": {
        "colab": {
          "base_uri": "https://localhost:8080/"
        },
        "id": "LLwS0JYxrRTF",
        "outputId": "3a1f8a59-ddeb-4982-8798-842b1d9ac116"
      },
      "outputs": [
        {
          "output_type": "stream",
          "name": "stdout",
          "text": [
            "Drive already mounted at /content/drive; to attempt to forcibly remount, call drive.mount(\"/content/drive\", force_remount=True).\n"
          ]
        }
      ],
      "source": [
        "from google.colab import drive\n",
        "drive.mount('/content/drive')"
      ]
    },
    {
      "cell_type": "markdown",
      "source": [
        "**Load and Reshape Training data**"
      ],
      "metadata": {
        "id": "0vL50xn-Uc3z"
      }
    },
    {
      "cell_type": "code",
      "source": [
        "import scipy.io\n",
        "import numpy as np\n",
        "import pickle\n",
        "import matplotlib.pyplot as plt"
      ],
      "metadata": {
        "id": "aaLw1Rh7TIjL"
      },
      "execution_count": null,
      "outputs": []
    },
    {
      "cell_type": "code",
      "source": [
        "train_data = scipy.io.loadmat('/content/drive/My Drive/stat-learning/train_data.mat')"
      ],
      "metadata": {
        "id": "eLwj1SM9TZ4I"
      },
      "execution_count": null,
      "outputs": []
    },
    {
      "cell_type": "code",
      "source": [
        "train_data_x = train_data['x']\n",
        "print(\"Shape of Training images\")\n",
        "print(train_data_x.shape)\n",
        "train_data_x = np.reshape(train_data_x,(train_data_x.shape[0],train_data_x.shape[1]*train_data_x.shape[2]))\n",
        "print(\"Shape after flattening\")\n",
        "print(train_data_x.shape)"
      ],
      "metadata": {
        "colab": {
          "base_uri": "https://localhost:8080/"
        },
        "id": "1cyZz2e9UGLE",
        "outputId": "33c470fd-9cbc-42c5-be51-00534c7c635c"
      },
      "execution_count": null,
      "outputs": [
        {
          "output_type": "stream",
          "name": "stdout",
          "text": [
            "Shape of Training images\n",
            "(12000, 28, 28)\n",
            "Shape after flattening\n",
            "(12000, 784)\n"
          ]
        }
      ]
    },
    {
      "cell_type": "markdown",
      "source": [
        "**Covariance matrix calculation and PCA definition**"
      ],
      "metadata": {
        "id": "HXFC2vjDWh1-"
      }
    },
    {
      "cell_type": "code",
      "source": [
        "def cov(data):\n",
        "  N=data.shape[0]\n",
        "  data_mean = data.mean(axis=0)[np.newaxis,:]\n",
        "  std_dev = np.sqrt(np.sum(np.square((data-data_mean)),axis=0)/(N-1))[np.newaxis,:]\n",
        "  data_normal = np.divide((data-data_mean),std_dev,out=np.zeros_like(data-data_mean,dtype=np.float64),where=std_dev!=0)\n",
        "  cov_matrix = np.matmul(data_normal.T,data_normal)/(N-1)\n",
        "  return cov_matrix.astype(np.float64), data_mean, std_dev\n",
        "\n",
        "def PCA(data):\n",
        "  cov_matrix, data_mean, std_dev = cov(data)\n",
        "  print(\"Shape of cov matrix:\"+str(cov_matrix.shape), \"Shape of mean vector:\"+str(data_mean.shape), \"Shape of standard deviation:\"+str(std_dev.shape))\n",
        "  eigen_val, eigen_vec = np.linalg.eigh(cov_matrix)\n",
        "  print(\"No of eigen values:\",eigen_val.shape)\n",
        "  print(\"Shape of matrix of eigen vectors:\",eigen_vec.shape)\n",
        "  eigen_val = eigen_val[-1::-1]\n",
        "  eigen_vec = eigen_vec[:,-1::-1]\n",
        "  eigen_val[eigen_val<0] = 0\n",
        "  return eigen_val,eigen_vec, data_mean, std_dev"
      ],
      "metadata": {
        "id": "0Yl5q-q6XAZW"
      },
      "execution_count": null,
      "outputs": []
    },
    {
      "cell_type": "markdown",
      "source": [
        "**Calculating the principal components and eigen values of the training data**"
      ],
      "metadata": {
        "id": "s9uyUeHyXKOu"
      }
    },
    {
      "cell_type": "code",
      "source": [
        "eigen_values, eigen_vectors, mean, std_dev = PCA(train_data_x)"
      ],
      "metadata": {
        "colab": {
          "base_uri": "https://localhost:8080/"
        },
        "id": "lcv-66uub-Zx",
        "outputId": "44cc46ff-2b58-4d7d-8d58-63a8cea2770a"
      },
      "execution_count": null,
      "outputs": [
        {
          "output_type": "stream",
          "name": "stdout",
          "text": [
            "Shape of cov matrix:(784, 784) Shape of mean vector:(1, 784) Shape of standard deviation:(1, 784)\n",
            "No of eigen values: (784,)\n",
            "Shape of matrix of eigen vectors: (784, 784)\n"
          ]
        }
      ]
    },
    {
      "cell_type": "markdown",
      "source": [
        "**Data normalization and projection onto top 2 Principal Components**"
      ],
      "metadata": {
        "id": "qbyYBTRUZUSq"
      }
    },
    {
      "cell_type": "code",
      "source": [
        "train_data_norm = (train_data_x-mean)/std_dev\n",
        "print(\"Data before projection -\")\n",
        "print(train_data_norm.shape)\n",
        "train_data_2d = np.matmul(train_data_norm,eigen_vectors[:,:2])\n",
        "print(\"Data after projection -\")\n",
        "print(train_data_2d.shape)"
      ],
      "metadata": {
        "colab": {
          "base_uri": "https://localhost:8080/"
        },
        "id": "lbEDzDmXemxa",
        "outputId": "c4d61416-1d1f-4b94-99e2-f0e9fed2428d"
      },
      "execution_count": null,
      "outputs": [
        {
          "output_type": "stream",
          "name": "stdout",
          "text": [
            "Data before projection -\n",
            "(12000, 784)\n",
            "Data after projection -\n",
            "(12000, 2)\n"
          ]
        }
      ]
    },
    {
      "cell_type": "markdown",
      "source": [
        "**Plotting the 2 classes in the reduced 2D space**"
      ],
      "metadata": {
        "id": "dBp6GbIvZ5lx"
      }
    },
    {
      "cell_type": "code",
      "source": [
        "labels = train_data['y'].squeeze()\n",
        "shirt_data_2d = train_data_2d[labels==0]\n",
        "sneakers_data_2d = train_data_2d[labels==1]"
      ],
      "metadata": {
        "id": "ksym3pYZgI1e"
      },
      "execution_count": null,
      "outputs": []
    },
    {
      "cell_type": "code",
      "source": [
        "plt.scatter(shirt_data_2d[:,0], shirt_data_2d[:,1], s=1,c='r',label='shirt')\n",
        "plt.scatter(sneakers_data_2d[:,0], sneakers_data_2d[:,1],s=1, c='g',label='sneaker')\n",
        "plt.legend()\n",
        "plt.show()"
      ],
      "metadata": {
        "colab": {
          "base_uri": "https://localhost:8080/",
          "height": 430
        },
        "id": "7uqQWF8snyZy",
        "outputId": "7e4707b4-4230-4643-da38-39a6fb1e54c5"
      },
      "execution_count": null,
      "outputs": [
        {
          "output_type": "display_data",
          "data": {
            "text/plain": [
              "<Figure size 640x480 with 1 Axes>"
            ],
            "image/png": "[encoded data removed]"
          },
          "metadata": {}
        }
      ]
    },
    {
      "cell_type": "markdown",
      "source": [
        "**Calculating MLE Estimate for the 2 classes**"
      ],
      "metadata": {
        "id": "hLZNg6eyaWjV"
      }
    },
    {
      "cell_type": "code",
      "source": [
        "shirt_mu = shirt_data_2d.mean(axis=0)[np.newaxis,:]\n",
        "print(\"MLE mean shirt-\")\n",
        "print(shirt_mu)\n",
        "N = shirt_data_2d.shape[0]\n",
        "shirt_sigma = np.matmul((shirt_data_2d-shirt_mu).T,(shirt_data_2d-shirt_mu))/N\n",
        "print(\"MLE Sigma shirt-\")\n",
        "print(shirt_sigma)"
      ],
      "metadata": {
        "colab": {
          "base_uri": "https://localhost:8080/"
        },
        "id": "Y_uSxSpKtMJf",
        "outputId": "3242996f-53ff-4313-8222-d0f3ec45155d"
      },
      "execution_count": null,
      "outputs": [
        {
          "output_type": "stream",
          "name": "stdout",
          "text": [
            "MLE mean shirt-\n",
            "[[-14.95951243   2.53749139]]\n",
            "MLE Sigma shirt-\n",
            "[[103.35625586  69.13932645]\n",
            " [ 69.13932645  73.41582531]]\n"
          ]
        }
      ]
    },
    {
      "cell_type": "code",
      "source": [
        "sneakers_mu = sneakers_data_2d.mean(axis=0)[np.newaxis,:]\n",
        "print(\"MLE mean sneakers-\")\n",
        "print(sneakers_mu)\n",
        "N = sneakers_data_2d.shape[0]\n",
        "sneakers_sigma = np.matmul((sneakers_data_2d-sneakers_mu).T,(sneakers_data_2d-sneakers_mu))/N\n",
        "print(\"MLE sigma sneakers-\")\n",
        "print(sneakers_sigma)"
      ],
      "metadata": {
        "colab": {
          "base_uri": "https://localhost:8080/"
        },
        "id": "A2xRrZYrwZMz",
        "outputId": "f14d7de7-dd1b-4205-c4b8-e8df9d14cbea"
      },
      "execution_count": null,
      "outputs": [
        {
          "output_type": "stream",
          "name": "stdout",
          "text": [
            "MLE mean sneakers-\n",
            "[[14.95951243 -2.53749139]]\n",
            "MLE sigma sneakers-\n",
            "[[ 4.9453332   6.7799416 ]\n",
            " [ 6.7799416  54.66106369]]\n"
          ]
        }
      ]
    },
    {
      "cell_type": "markdown",
      "source": [
        "**Log Discriminant Function**"
      ],
      "metadata": {
        "id": "NNapos8_a76q"
      }
    },
    {
      "cell_type": "code",
      "source": [
        "def g(X, mu, sigma):\n",
        "  result = np.sum(np.matmul((X-mu),np.linalg.inv(sigma))*(X-mu),axis=1)/(-2) - np.log(np.linalg.det(sigma))/2\n",
        "  return result"
      ],
      "metadata": {
        "id": "PdGtfxoZ0bUj"
      },
      "execution_count": null,
      "outputs": []
    },
    {
      "cell_type": "markdown",
      "source": [
        "**Training set classification**"
      ],
      "metadata": {
        "id": "18bj1ad2bP6-"
      }
    },
    {
      "cell_type": "code",
      "source": [
        "# Calculating the value of the shirt and sneaker discriminant functions for all input points\n",
        "train_pred = np.concatenate((g(train_data_2d,shirt_mu,shirt_sigma)[:,np.newaxis],g(train_data_2d,sneakers_mu,sneakers_sigma)[:,np.newaxis]),axis=1)\n",
        "# Taking the catergory with bigger discriminant function as prediction\n",
        "train_pred = np.argmax(train_pred,axis=1)\n",
        "N = train_pred.shape[0]\n",
        "accuracy_train = (1-(np.sum(np.abs(train_pred-labels))/N))*100\n",
        "print(\"Training accuracy-\"+ str(accuracy_train))"
      ],
      "metadata": {
        "colab": {
          "base_uri": "https://localhost:8080/"
        },
        "id": "gJm27xr32IUF",
        "outputId": "50c6b0b8-e9e1-4ed3-823b-9c236be9e898"
      },
      "execution_count": null,
      "outputs": [
        {
          "output_type": "stream",
          "name": "stdout",
          "text": [
            "Training accuracy-99.75\n"
          ]
        }
      ]
    },
    {
      "cell_type": "markdown",
      "source": [
        "**Loading and Preprocessing Test Data**"
      ],
      "metadata": {
        "id": "jcUcvm-tbwr3"
      }
    },
    {
      "cell_type": "code",
      "source": [
        "test_data = scipy.io.loadmat('/content/drive/My Drive/stat-learning/test_data.mat')"
      ],
      "metadata": {
        "id": "oDCKpTp18a3J"
      },
      "execution_count": null,
      "outputs": []
    },
    {
      "cell_type": "code",
      "source": [
        "test_data_x = test_data['x']\n",
        "print(\"Shape of Test images\")\n",
        "print(test_data_x.shape)\n",
        "test_data_x = np.reshape(test_data_x,(test_data_x.shape[0],test_data_x.shape[1]*test_data_x.shape[2]))\n",
        "print(\"Shape of Test images after flattening\")\n",
        "print(test_data_x.shape)"
      ],
      "metadata": {
        "colab": {
          "base_uri": "https://localhost:8080/"
        },
        "id": "UrgBwmL783Gt",
        "outputId": "ebe87565-9ccd-4939-bd6b-32c99e01c4ab"
      },
      "execution_count": null,
      "outputs": [
        {
          "output_type": "stream",
          "name": "stdout",
          "text": [
            "Shape of Test images\n",
            "(2000, 28, 28)\n",
            "Shape of Test images after flattening\n",
            "(2000, 784)\n"
          ]
        }
      ]
    },
    {
      "cell_type": "markdown",
      "source": [
        "**Normalization of test data and projection onto top 2 principal components**"
      ],
      "metadata": {
        "id": "SSwuF5v_cKAS"
      }
    },
    {
      "cell_type": "code",
      "source": [
        "test_data_norm = (test_data_x-mean)/std_dev\n",
        "print(\"original dimensions of the test data\")\n",
        "print(test_data_norm.shape)\n",
        "test_data_2d = np.matmul(test_data_norm,eigen_vectors[:,:2])\n",
        "print(\"Test data after dimensionality reduction\")\n",
        "print(test_data_2d.shape)\n",
        "test_labels = test_data['y'].squeeze()"
      ],
      "metadata": {
        "colab": {
          "base_uri": "https://localhost:8080/"
        },
        "id": "-RIi-jHd9wwB",
        "outputId": "79b23802-c4e5-479a-d822-8a56af290f5c"
      },
      "execution_count": null,
      "outputs": [
        {
          "output_type": "stream",
          "name": "stdout",
          "text": [
            "original dimensions of the test data\n",
            "(2000, 784)\n",
            "Test data after dimensionality reduction\n",
            "(2000, 2)\n"
          ]
        }
      ]
    },
    {
      "cell_type": "markdown",
      "source": [
        "**Test data classification**"
      ],
      "metadata": {
        "id": "61MsP7FtctXp"
      }
    },
    {
      "cell_type": "code",
      "source": [
        "# Calculating the value of the shirt and sneaker discriminant functions for all input points\n",
        "test_pred = np.concatenate((g(test_data_2d,shirt_mu,shirt_sigma)[:,np.newaxis],g(test_data_2d,sneakers_mu,sneakers_sigma)[:,np.newaxis]),axis=1)\n",
        "# Taking the catergory with bigger discriminant function as prediction\n",
        "test_pred = np.argmax(test_pred,axis=1)\n",
        "N = test_pred.shape[0]\n",
        "# Calculating accuracy\n",
        "accuracy_test = (1-(np.sum(np.abs(test_pred-test_labels))/N))*100\n",
        "print(\"Test accuracy-\"+str(accuracy_test))"
      ],
      "metadata": {
        "colab": {
          "base_uri": "https://localhost:8080/"
        },
        "id": "eUFewxhS-Bh6",
        "outputId": "ed4ceaf3-d9f0-4194-ba8a-c37386a258a7"
      },
      "execution_count": null,
      "outputs": [
        {
          "output_type": "stream",
          "name": "stdout",
          "text": [
            "Test accuracy-99.9\n"
          ]
        }
      ]
    },
    {
      "cell_type": "code",
      "source": [
        "import json\n",
        "#store the eigen vectors, train and test predictions\n",
        "with open('/content/drive/My Drive/stat-learning/eigen_vectors_mnist.json','w') as fd:\n",
        "  json.dump({\"eigen_vectors\":eigen_vectors.tolist(), \"eigen_values\":eigen_values.tolist()},fd)\n",
        "with open('/content/drive/My Drive/stat-learning/predictions_mnist.json','w') as fd:\n",
        "  json.dump({\"train_predictions\":train_pred.tolist(), \"test_predictions\":test_pred.tolist()},fd)"
      ],
      "metadata": {
        "id": "pyicXhksYTXa"
      },
      "execution_count": null,
      "outputs": []
    }
  ]
}